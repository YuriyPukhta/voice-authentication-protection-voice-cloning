{
 "cells": [
  {
   "cell_type": "markdown",
   "metadata": {},
   "source": [
    "# Change sample rate for voice file and save in new file in separate directory "
   ]
  },
  {
   "cell_type": "code",
   "execution_count": 1,
   "metadata": {},
   "outputs": [],
   "source": [
    "import torchaudio\n",
    "import soundfile as sf\n",
    "import librosa\n",
    "import os\n",
    "import torchaudio"
   ]
  },
  {
   "cell_type": "code",
   "execution_count": 2,
   "metadata": {},
   "outputs": [],
   "source": [
    "def file_metadata(path):\n",
    "  return torchaudio.info(path)"
   ]
  },
  {
   "cell_type": "code",
   "execution_count": 3,
   "metadata": {},
   "outputs": [],
   "source": [
    "def convert_audio(input_path, output_path, target_sampling_rate, target_bitdepth):\n",
    "    audio, sr = librosa.load(input_path, sr=target_sampling_rate)\n",
    "\n",
    "    if audio.dtype != 'int16' and target_bitdepth == 16:\n",
    "        audio = (audio * 32767).astype('int16')\n",
    "\n",
    "    sf.write(output_path, audio, target_sampling_rate)\n",
    "\n",
    "def batch_convert_audio(input_folder, output_folder, target_sampling_rate, target_bitdepth):\n",
    "    if not os.path.exists(output_folder):\n",
    "        os.makedirs(output_folder)\n",
    "\n",
    "    for file_name in os.listdir(input_folder):\n",
    "        if file_name.endswith((\".wav\", \".mp3\", \".flac\")):\n",
    "            input_path = os.path.join(input_folder, file_name)\n",
    "            output_path = os.path.join(output_folder, file_name)\n",
    "\n",
    "            convert_audio(input_path, output_path, target_sampling_rate, target_bitdepth)\n"
   ]
  },
  {
   "cell_type": "code",
   "execution_count": 4,
   "metadata": {},
   "outputs": [],
   "source": [
    "input_folder = \"data/validated\"  \n",
    "output_folder = \"data/validated_16000\" \n",
    "target_sampling_rate = 16000 \n",
    "target_bitdepth = 16\n",
    "\n",
    "batch_convert_audio(input_folder, output_folder, target_sampling_rate, target_bitdepth)"
   ]
  },
  {
   "cell_type": "code",
   "execution_count": 5,
   "metadata": {},
   "outputs": [],
   "source": [
    "input_folder = \"data/generated\"  \n",
    "output_folder = \"data/generated_16000\" \n",
    "target_sampling_rate = 16000 \n",
    "target_bitdepth = 16\n",
    "\n",
    "batch_convert_audio(input_folder, output_folder, target_sampling_rate, target_bitdepth)"
   ]
  }
 ],
 "metadata": {
  "kernelspec": {
   "display_name": "Python 3",
   "language": "python",
   "name": "python3"
  },
  "language_info": {
   "codemirror_mode": {
    "name": "ipython",
    "version": 3
   },
   "file_extension": ".py",
   "mimetype": "text/x-python",
   "name": "python",
   "nbconvert_exporter": "python",
   "pygments_lexer": "ipython3",
   "version": "3.8.0"
  }
 },
 "nbformat": 4,
 "nbformat_minor": 2
}
