{
 "cells": [
  {
   "cell_type": "markdown",
   "metadata": {},
   "source": [
    "# Сreating tsv data to generate cloned voices based"
   ]
  },
  {
   "cell_type": "code",
   "execution_count": 68,
   "metadata": {},
   "outputs": [],
   "source": [
    "import pandas as pd\n",
    "import random\n",
    "from enum import Enum\n",
    "import numpy as np"
   ]
  },
  {
   "cell_type": "code",
   "execution_count": 69,
   "metadata": {},
   "outputs": [],
   "source": [
    "class DataFrameColumn(str, Enum):\n",
    "    path = \"path\"\n",
    "    client_id = \"client_id\"\n",
    "    sentence = \"sentence\"\n",
    "    generated_sentence = \"generated_sentence\"\n",
    "    generated_path = \"generated_path\""
   ]
  },
  {
   "cell_type": "code",
   "execution_count": 70,
   "metadata": {},
   "outputs": [],
   "source": [
    "class GeneratedObjcet:\n",
    "    def __init__(self, path, client_id, sentence,  generated_path=None, generated_sentence=None):\n",
    "        self.path = path\n",
    "        self.client_id = client_id\n",
    "        self.generated_path = generated_path\n",
    "        self.sentence = sentence\n",
    "        self.generated_sentence = generated_sentence"
   ]
  },
  {
   "cell_type": "code",
   "execution_count": 71,
   "metadata": {},
   "outputs": [
    {
     "name": "stdout",
     "output_type": "stream",
     "text": [
      "generated_voice_en_37476269\n"
     ]
    }
   ],
   "source": [
    "original_string = \"common_voice_en_37476269\"\n",
    "new_string = original_string.replace(\"common_voice_en\", \"generated_voice_en\")\n",
    "print(new_string)"
   ]
  },
  {
   "cell_type": "code",
   "execution_count": 72,
   "metadata": {},
   "outputs": [],
   "source": [
    "def select_rundom_client_sample(df, client_id):\n",
    "  df_filtered = df[df[DataFrameColumn.client_id] != client_id]\n",
    "  return df_filtered.sample(n=1)\n",
    "\n",
    "def generate_new_path(original_path):\n",
    "  return original_path.replace(\"common_voice_en\", \"generated_voice_en\")\n"
   ]
  },
  {
   "cell_type": "code",
   "execution_count": 73,
   "metadata": {},
   "outputs": [],
   "source": [
    "def generate_voice_tsv(original_voice_tsv,  generated_voice_tsv):\n",
    "  tsv_file_path = original_voice_tsv\n",
    "  df = pd.read_csv(tsv_file_path, sep='\\t')\n",
    "  voices = []\n",
    "  for _, row in df.iterrows():\n",
    "      client_id=row[DataFrameColumn.client_id],\n",
    "      sample = select_rundom_client_sample(df, client_id)\n",
    "      path=row[DataFrameColumn.path]\n",
    "      generated_path=generate_new_path(path)\n",
    "      voices.append(\n",
    "        GeneratedObjcet(\n",
    "          path=path,\n",
    "          client_id=row[DataFrameColumn.client_id],\n",
    "          sentence=row[DataFrameColumn.sentence],\n",
    "          generated_sentence=sample[DataFrameColumn.sentence].values[0],\n",
    "          generated_path=generated_path,\n",
    "        )\n",
    "      )\n",
    "  generate_df =pd.DataFrame([vars(generated_voice) for generated_voice in voices])\n",
    "  generate_df.to_csv(generated_voice_tsv, sep=\"\\t\", index=False)\n"
   ]
  },
  {
   "cell_type": "code",
   "execution_count": 74,
   "metadata": {},
   "outputs": [],
   "source": [
    "np.random.seed(200)\n",
    "original_voice_tsv = \"./data/en/validated.tsv\"\n",
    "generated_voice_tsv = \"./data/en/generated.tsv\"\n",
    "generate_voice_tsv(original_voice_tsv, generated_voice_tsv)"
   ]
  }
 ],
 "metadata": {
  "kernelspec": {
   "display_name": "Python 3",
   "language": "python",
   "name": "python3"
  },
  "language_info": {
   "codemirror_mode": {
    "name": "ipython",
    "version": 3
   },
   "file_extension": ".py",
   "mimetype": "text/x-python",
   "name": "python",
   "nbconvert_exporter": "python",
   "pygments_lexer": "ipython3",
   "version": "3.8.0"
  }
 },
 "nbformat": 4,
 "nbformat_minor": 2
}
