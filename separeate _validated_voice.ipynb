{
 "cells": [
  {
   "cell_type": "markdown",
   "metadata": {},
   "source": [
    "# Copy valide vioce file form source folder to separreate folder  "
   ]
  },
  {
   "cell_type": "code",
   "execution_count": 1,
   "metadata": {},
   "outputs": [],
   "source": [
    "import os\n",
    "import shutil\n",
    "import pandas as pd"
   ]
  },
  {
   "cell_type": "code",
   "execution_count": 4,
   "metadata": {},
   "outputs": [],
   "source": [
    "def copy_files_from_tsv(tsv_file_path, source_folder, destination_folder):\n",
    "    if not os.path.exists(destination_folder):\n",
    "        os.makedirs(destination_folder)\n",
    "\n",
    "    df = pd.read_csv(tsv_file_path, delimiter='\\t')\n",
    "\n",
    "    paths = df['path']\n",
    "    for file_path in paths:\n",
    "\n",
    "        full_file_path = os.path.join(source_folder, file_path)\n",
    "        if os.path.exists(full_file_path):\n",
    "            destination_file_path = os.path.join(destination_folder, file_path)\n",
    "            if os.path.exists(destination_file_path):\n",
    "                print(f\"File '{file_path}' already exists in '{destination_folder}'. Skipping.\")\n",
    "            else:\n",
    "                shutil.copy(full_file_path, destination_folder)\n",
    "\n",
    "        else:\n",
    "            print(f\"File '{file_path}' does not exist in the source folder\")\n",
    "\n"
   ]
  },
  {
   "cell_type": "code",
   "execution_count": 5,
   "metadata": {},
   "outputs": [],
   "source": [
    "tsv_file_path = \"./data/en/validated.tsv\"\n",
    "source_folder = \"./data/en/clips\"\n",
    "destination_folder = \"./validated\"\n",
    "\n",
    "copy_files_from_tsv(tsv_file_path, source_folder, destination_folder)"
   ]
  }
 ],
 "metadata": {
  "kernelspec": {
   "display_name": "Python 3",
   "language": "python",
   "name": "python3"
  },
  "language_info": {
   "codemirror_mode": {
    "name": "ipython",
    "version": 3
   },
   "file_extension": ".py",
   "mimetype": "text/x-python",
   "name": "python",
   "nbconvert_exporter": "python",
   "pygments_lexer": "ipython3",
   "version": "3.8.0"
  }
 },
 "nbformat": 4,
 "nbformat_minor": 2
}
