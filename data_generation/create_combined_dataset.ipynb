{
 "cells": [
  {
   "cell_type": "markdown",
   "metadata": {},
   "source": [
    "# Creating a dataset to train a model for combined recognition of whether a voice belongs to a person or not and generated voices"
   ]
  },
  {
   "cell_type": "code",
   "execution_count": 1,
   "metadata": {},
   "outputs": [],
   "source": [
    "import pandas as pd\n",
    "import matplotlib.pyplot as plt\n",
    "import numpy as np\n",
    "from typing import List"
   ]
  },
  {
   "cell_type": "code",
   "execution_count": 3,
   "metadata": {},
   "outputs": [],
   "source": [
    "original = pd.read_csv('../data/validated.tsv',  sep='\\t')\n",
    "generated = pd.read_csv('../data/generated.tsv',  sep='\\t')"
   ]
  },
  {
   "cell_type": "code",
   "execution_count": 4,
   "metadata": {},
   "outputs": [],
   "source": [
    "sample_count = original['client_id'].value_counts()\n",
    "train_client_ids = [e for e in sample_count[sample_count < 500][sample_count > 5].index]"
   ]
  },
  {
   "cell_type": "code",
   "execution_count": 5,
   "metadata": {},
   "outputs": [],
   "source": [
    "def filter_sample_by_clients_ids(data: pd.DataFrame, clients_ids: List[str]):\n",
    "\treturn data[data['client_id'].isin(clients_ids)]"
   ]
  },
  {
   "cell_type": "code",
   "execution_count": 6,
   "metadata": {},
   "outputs": [],
   "source": [
    "train_original_sample = filter_sample_by_clients_ids(original, train_client_ids)\n",
    "train_original_sample = train_original_sample[['client_id', 'path']]"
   ]
  },
  {
   "cell_type": "code",
   "execution_count": 7,
   "metadata": {},
   "outputs": [],
   "source": [
    "train_generated_sample = filter_sample_by_clients_ids(generated, train_client_ids)\n",
    "train_generated_sample = train_generated_sample[['client_id', 'generated_path']]"
   ]
  },
  {
   "cell_type": "code",
   "execution_count": 8,
   "metadata": {},
   "outputs": [],
   "source": [
    "train_generated_sample = train_generated_sample.rename(columns={\"generated_path\": \"path\"})"
   ]
  },
  {
   "cell_type": "code",
   "execution_count": 9,
   "metadata": {},
   "outputs": [],
   "source": [
    "def concatenation(train_data: pd.DataFrame, anchor: pd.DataFrame, posneg: pd.DataFrame) -> pd.DataFrame:\n",
    "\t\tdata_particle_case = pd.DataFrame(columns=['anchor_client_id', 'anchor_path', 'posneg_client_id', 'posneg_path', 'anchor_source', 'posneg_source'])\n",
    "\t\tdata_particle_case[['anchor_client_id', 'anchor_path', 'anchor_source']] = anchor\n",
    "\t\tdata_particle_case[['posneg_client_id', 'posneg_path', 'posneg_source']] = posneg\n",
    "\t\treturn pd.concat([train_data, data_particle_case], ignore_index=True)\n",
    "\n",
    "\n",
    "def generate_combined_dataset(original_data: pd.DataFrame, generated_data: pd.DataFrame, data_frac: int = 0.5) -> pd.DataFrame:\n",
    "\tclient_ids = original_data['client_id'].unique()\n",
    "\toriginal_data['source'] = 'original'\n",
    "\tgenerated_data['source'] = 'generated'\n",
    "\t\n",
    "\ttrain_data = pd.DataFrame(columns=['anchor_client_id', 'anchor_path', 'posneg_client_id', 'posneg_path', 'anchor_source', 'posneg_source'])\n",
    "\tfor id in client_ids:\n",
    "\n",
    "\t\toriginal_id_sample = original_data[original_data['client_id'] == id]\n",
    "\t\tgenerated_id_sample = generated_data[generated_data['client_id'] == id]\n",
    "\t\toriginal_no_client_id_sample = original_data[original_data['client_id'] != id]\n",
    "\n",
    "\t\tanchor_original = original_id_sample.sample(frac=data_frac).reset_index(drop=True)\n",
    "\t\tpositive_original = original_id_sample.sample(frac=data_frac).reset_index(drop=True)\n",
    "\t\ttrain_data = concatenation(train_data, anchor_original, positive_original)\n",
    "\n",
    "\n",
    "\t\tanchor_original = original_id_sample.sample(frac=data_frac).reset_index(drop=True)\n",
    "\t\tnegative_original = original_no_client_id_sample.sample(frac=data_frac).reset_index(drop=True)\n",
    "\t\ttrain_data = concatenation(train_data, anchor_original, negative_original)\n",
    "\n",
    "\t\tanchor_original = original_id_sample.sample(frac=data_frac).reset_index(drop=True)\n",
    "\t\tpositive_original = original_id_sample.sample(frac=data_frac).reset_index(drop=True)\n",
    "\t\ttrain_data = concatenation(train_data, anchor_original, positive_original)\n",
    "\n",
    "\t\tanchor_original = original_id_sample.sample(frac=data_frac).reset_index(drop=True)\n",
    "\t\tnegative_generated = generated_id_sample.sample(frac=data_frac).reset_index(drop=True)\n",
    "\t\ttrain_data = concatenation(train_data, anchor_original, negative_generated)\n",
    "\t\n",
    "\treturn train_data"
   ]
  },
  {
   "cell_type": "code",
   "execution_count": 14,
   "metadata": {},
   "outputs": [],
   "source": [
    "save_folder = '../dataset/'\n",
    "dataset_name = 'train_combined_dataset.csv'\n",
    "save_path = save_folder + dataset_name"
   ]
  },
  {
   "cell_type": "code",
   "execution_count": 15,
   "metadata": {},
   "outputs": [],
   "source": [
    "train_combined_dataset = generate_combined_dataset(train_original_sample, train_generated_sample, data_frac=1)\n",
    "train_combined_dataset.to_csv(save_path, index=False)"
   ]
  },
  {
   "cell_type": "code",
   "execution_count": 16,
   "metadata": {},
   "outputs": [],
   "source": [
    "test_client_ids = [e for e in sample_count[sample_count < 5].index]"
   ]
  },
  {
   "cell_type": "code",
   "execution_count": 17,
   "metadata": {},
   "outputs": [],
   "source": [
    "test_original_sample = filter_sample_by_clients_ids(original, test_client_ids)\n",
    "test_original_sample = test_original_sample[['client_id', 'path']]"
   ]
  },
  {
   "cell_type": "code",
   "execution_count": 18,
   "metadata": {},
   "outputs": [],
   "source": [
    "test_generated_sample = filter_sample_by_clients_ids(generated, test_client_ids)\n",
    "test_generated_sample = test_generated_sample[['client_id', 'generated_path']]\n",
    "test_generated_sample = test_generated_sample.rename(columns={\"generated_path\": \"path\"})"
   ]
  },
  {
   "cell_type": "code",
   "execution_count": 21,
   "metadata": {},
   "outputs": [],
   "source": [
    "dataset_name = 'test_combined_dataset.csv'\n",
    "save_path = save_folder + dataset_name"
   ]
  },
  {
   "cell_type": "code",
   "execution_count": 22,
   "metadata": {},
   "outputs": [],
   "source": [
    "test_combined_dataset = generate_combined_dataset(test_original_sample, test_generated_sample, data_frac=1)\n",
    "test_combined_dataset.to_csv(save_path, index=False)"
   ]
  }
 ],
 "metadata": {
  "kernelspec": {
   "display_name": "Python 3",
   "language": "python",
   "name": "python3"
  },
  "language_info": {
   "codemirror_mode": {
    "name": "ipython",
    "version": 3
   },
   "file_extension": ".py",
   "mimetype": "text/x-python",
   "name": "python",
   "nbconvert_exporter": "python",
   "pygments_lexer": "ipython3",
   "version": "3.8.0"
  }
 },
 "nbformat": 4,
 "nbformat_minor": 2
}
