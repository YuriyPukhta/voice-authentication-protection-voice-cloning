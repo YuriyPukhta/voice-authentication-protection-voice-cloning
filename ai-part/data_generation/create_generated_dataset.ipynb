{
 "cells": [
  {
   "cell_type": "markdown",
   "metadata": {},
   "source": [
    "# Сreating a dataset to train the model to recognize the generated voices"
   ]
  },
  {
   "cell_type": "code",
   "execution_count": 1,
   "metadata": {},
   "outputs": [],
   "source": [
    "import pandas as pd\n",
    "import matplotlib.pyplot as plt\n",
    "import numpy as np"
   ]
  },
  {
   "cell_type": "code",
   "execution_count": 2,
   "metadata": {},
   "outputs": [],
   "source": [
    "validated = pd.read_csv('../data/validated.tsv',  sep='\\t')\n",
    "generated = pd.read_csv('../data/generated.tsv',  sep='\\t')"
   ]
  },
  {
   "cell_type": "code",
   "execution_count": 3,
   "metadata": {},
   "outputs": [],
   "source": [
    "sample_count = validated['client_id'].value_counts()"
   ]
  },
  {
   "cell_type": "code",
   "execution_count": 4,
   "metadata": {},
   "outputs": [],
   "source": [
    "valid_client_ids = [e for e in sample_count[sample_count < 500][sample_count >= 5].index]"
   ]
  },
  {
   "cell_type": "code",
   "execution_count": 49,
   "metadata": {},
   "outputs": [],
   "source": [
    "clean_validated_data = validated[validated['client_id'].isin(valid_client_ids)][['client_id', 'path']]\n",
    "clean_generated_data = generated[generated['client_id'].isin(valid_client_ids)][['client_id', 'generated_path']]"
   ]
  },
  {
   "cell_type": "code",
   "execution_count": 50,
   "metadata": {},
   "outputs": [],
   "source": [
    "clean_generated_data = clean_generated_data.rename(columns={\"generated_path\": \"path\"})"
   ]
  },
  {
   "cell_type": "code",
   "execution_count": 11,
   "metadata": {},
   "outputs": [],
   "source": [
    "def concatenation(res_data: pd.DataFrame, anchor: pd.DataFrame, posneg: pd.DataFrame) -> pd.DataFrame:\n",
    "\t\tdata_particle_case = pd.DataFrame(columns=['anchor_client_id', 'anchor_path', 'posneg_client_id', 'posneg_path', 'anchor_source', 'posneg_source'])\n",
    "\t\tdata_particle_case[['anchor_client_id', 'anchor_path', 'anchor_source']] = anchor\n",
    "\t\tdata_particle_case[['posneg_client_id', 'posneg_path', 'posneg_source']] = posneg\n",
    "\t\treturn pd.concat([res_data, data_particle_case], ignore_index=True)\n",
    "\n",
    "def data_generation(original_data, generated_data, data_frac=1):\n",
    "\tclient_ids = original_data['client_id'].unique()\n",
    "\toriginal_data['source'] = 'original'\n",
    "\tgenerated_data['source'] = 'generated'\n",
    "\t\n",
    "\tres_data = pd.DataFrame(columns=['anchor_client_id', 'anchor_path', 'posneg_client_id', 'posneg_path', 'anchor_source', 'posneg_source'])\n",
    "\tfor id in client_ids:\n",
    "\t\toriginal_id_sample = original_data[original_data['client_id'] == id]\n",
    "\t\tgenerated_id_sample = generated_data[generated_data['client_id'] == id]\n",
    "\n",
    "\t\tanchor_original = original_id_sample.sample(frac=data_frac).reset_index(drop=True)\n",
    "\t\tpositive_original = original_id_sample.sample(frac=data_frac).reset_index(drop=True)\n",
    "\t\tres_data = concatenation(res_data, anchor_original, positive_original)\n",
    "\n",
    "\t\tanchor_for_generated = original_id_sample.sample(frac=data_frac).reset_index(drop=True)\n",
    "\t\tposneg_generated = generated_id_sample.sample(frac=data_frac).reset_index(drop=True)\n",
    "\t\tres_data = concatenation(res_data, anchor_for_generated, posneg_generated)\n",
    "\tres_data['label'] = res_data['anchor_source'] == res_data['posneg_source']\n",
    "\treturn res_data"
   ]
  },
  {
   "cell_type": "code",
   "execution_count": 52,
   "metadata": {},
   "outputs": [],
   "source": [
    "clean_train_data = data_generation(clean_validated_data, clean_generated_data)"
   ]
  },
  {
   "cell_type": "code",
   "execution_count": 5,
   "metadata": {},
   "outputs": [],
   "source": [
    "save_folder = '../dataset/'\n",
    "dataset_name = 'train_generated_dataset.csv'\n",
    "save_path = save_folder + dataset_name"
   ]
  },
  {
   "cell_type": "code",
   "execution_count": 54,
   "metadata": {},
   "outputs": [],
   "source": [
    "clean_train_data.to_csv(save_path, index=False)"
   ]
  },
  {
   "cell_type": "code",
   "execution_count": 8,
   "metadata": {},
   "outputs": [],
   "source": [
    "test_client_ids = [e for e in sample_count[sample_count < 4][sample_count >= 2].index]"
   ]
  },
  {
   "cell_type": "code",
   "execution_count": 9,
   "metadata": {},
   "outputs": [],
   "source": [
    "test_clean_validated_data = validated[validated['client_id'].isin(test_client_ids)][['client_id', 'path']].reset_index(drop=True)\n",
    "test_clean_generated_data = generated[generated['client_id'].isin(test_client_ids)][['client_id', 'generated_path']].reset_index(drop=True).rename(columns={\"generated_path\": \"path\"})"
   ]
  },
  {
   "cell_type": "code",
   "execution_count": 12,
   "metadata": {},
   "outputs": [],
   "source": [
    "clean_test_data = data_generation(test_clean_validated_data, test_clean_generated_data, data_frac=1)"
   ]
  },
  {
   "cell_type": "code",
   "execution_count": 13,
   "metadata": {},
   "outputs": [],
   "source": [
    "dataset_name = 'test_generated_dataset_.csv'\n",
    "save_path = save_folder + dataset_name"
   ]
  },
  {
   "cell_type": "code",
   "execution_count": 14,
   "metadata": {},
   "outputs": [],
   "source": [
    "clean_test_data.to_csv(save_path, index=False)"
   ]
  }
 ],
 "metadata": {
  "kernelspec": {
   "display_name": "Python 3",
   "language": "python",
   "name": "python3"
  },
  "language_info": {
   "codemirror_mode": {
    "name": "ipython",
    "version": 3
   },
   "file_extension": ".py",
   "mimetype": "text/x-python",
   "name": "python",
   "nbconvert_exporter": "python",
   "pygments_lexer": "ipython3",
   "version": "3.8.0"
  }
 },
 "nbformat": 4,
 "nbformat_minor": 2
}
