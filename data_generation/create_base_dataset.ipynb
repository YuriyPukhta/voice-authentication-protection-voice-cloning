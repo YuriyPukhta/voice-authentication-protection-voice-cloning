{
 "cells": [
  {
   "cell_type": "markdown",
   "metadata": {},
   "source": [
    "# Creating a dataset to train the model to recognize whether the voice belongs to a person or not\n"
   ]
  },
  {
   "cell_type": "code",
   "execution_count": 3,
   "metadata": {},
   "outputs": [],
   "source": [
    "import pandas as pd\n",
    "import matplotlib.pyplot as plt\n",
    "import numpy as np"
   ]
  },
  {
   "cell_type": "code",
   "execution_count": 4,
   "metadata": {},
   "outputs": [],
   "source": [
    "validate = pd.read_csv('../data/validated.tsv',  sep='\\t')"
   ]
  },
  {
   "cell_type": "code",
   "execution_count": 5,
   "metadata": {},
   "outputs": [],
   "source": [
    "sample_count = validate['client_id'].value_counts()"
   ]
  },
  {
   "cell_type": "code",
   "execution_count": 6,
   "metadata": {},
   "outputs": [
    {
     "data": {
      "text/plain": [
       "422"
      ]
     },
     "execution_count": 6,
     "metadata": {},
     "output_type": "execute_result"
    }
   ],
   "source": [
    "validate['client_id'].nunique()"
   ]
  },
  {
   "cell_type": "code",
   "execution_count": 7,
   "metadata": {},
   "outputs": [],
   "source": [
    "bins = [0, 10, 20, 50, 100, 200, 300, 400, 500 ] + [float('inf')]"
   ]
  },
  {
   "cell_type": "code",
   "execution_count": 28,
   "metadata": {},
   "outputs": [
    {
     "data": {
      "text/plain": [
       "<BarContainer object of 9 artists>"
      ]
     },
     "execution_count": 28,
     "metadata": {},
     "output_type": "execute_result"
    },
    {
     "data": {
      "image/png": "[encoded data removed]",
      "text/plain": [
       "<Figure size 640x480 with 1 Axes>"
      ]
     },
     "metadata": {},
     "output_type": "display_data"
    }
   ],
   "source": [
    "hist, edges = np.histogram([e for e in sample_count], bins=bins)\n",
    "\n",
    "plt.bar(edges[:-1], hist, width=10, edgecolor='black')"
   ]
  },
  {
   "cell_type": "code",
   "execution_count": 8,
   "metadata": {},
   "outputs": [],
   "source": [
    "valid_client_ids = [e for e in sample_count[sample_count < 500][sample_count > 5].index]"
   ]
  },
  {
   "cell_type": "code",
   "execution_count": 9,
   "metadata": {},
   "outputs": [],
   "source": [
    "clean_data = validate[validate['client_id'].isin(valid_client_ids)][['client_id', 'path']]"
   ]
  },
  {
   "cell_type": "code",
   "execution_count": 12,
   "metadata": {},
   "outputs": [],
   "source": [
    "def concatenation(train_data: pd.DataFrame, anchor: pd.DataFrame, posneg: pd.DataFrame) -> pd.DataFrame:\n",
    "\t\tdata_particle_case = pd.DataFrame(columns=['anchor_client_id', 'anchor_path', 'posneg_client_id', 'posneg_path', 'anchor_source', 'posneg_source'])\n",
    "\t\tdata_particle_case[['anchor_client_id', 'anchor_path', 'anchor_source']] = anchor\n",
    "\t\tdata_particle_case[['posneg_client_id', 'posneg_path', 'posneg_source']] = posneg\n",
    "\t\t\n",
    "\t\treturn pd.concat([train_data, data_particle_case], ignore_index=True)\n",
    "\n",
    "def data_generation(data, data_frac=1):\n",
    "\tclient_ids = data['client_id'].unique()\n",
    "\tdata['source'] = 'original'\n",
    "\t\n",
    "\tres_data = pd.DataFrame(columns=['anchor_client_id', 'anchor_path', 'posneg_client_id', 'posneg_path', 'anchor_source', 'posneg_source'])\n",
    "\tfor id in client_ids:\n",
    "\t\tclient_id_sample = data[data['client_id'] == id] \n",
    "\t\tno_client_id_sample = data[data['client_id'] != id]\n",
    "\n",
    "\t\tanchor_original = client_id_sample.sample(frac=data_frac).reset_index(drop=True)\n",
    "\t\tpositive_original = client_id_sample.sample(frac=data_frac).reset_index(drop=True)\n",
    "\t\tres_data = concatenation(res_data, anchor_original, positive_original)\n",
    "\n",
    "\t\tanchor_neg_original = client_id_sample.sample(frac=data_frac).reset_index(drop=True)\n",
    "\t\tnegative_generated = no_client_id_sample.sample(frac=data_frac).reset_index(drop=True)\n",
    "\t\tres_data = concatenation(res_data, anchor_neg_original, negative_generated)\n",
    "\n",
    "\treturn res_data"
   ]
  },
  {
   "cell_type": "code",
   "execution_count": 16,
   "metadata": {},
   "outputs": [],
   "source": [
    "train_base_data = data_generation(clean_data)"
   ]
  },
  {
   "cell_type": "code",
   "execution_count": 17,
   "metadata": {},
   "outputs": [],
   "source": [
    "save_folder = '../dataset/'\n",
    "dataset_name = 'train_base_dataset.csv'\n",
    "save_path = save_folder + dataset_name"
   ]
  },
  {
   "cell_type": "code",
   "execution_count": 18,
   "metadata": {},
   "outputs": [],
   "source": [
    "train_base_data.to_csv(save_path, index=False)"
   ]
  },
  {
   "cell_type": "code",
   "execution_count": 8,
   "metadata": {},
   "outputs": [],
   "source": [
    "train_client_ids = [e for e in sample_count[sample_count < 5][sample_count >=2].index]"
   ]
  },
  {
   "cell_type": "code",
   "execution_count": null,
   "metadata": {},
   "outputs": [],
   "source": [
    "test_clean_validated_data = validate[validate['client_id'].isin(train_client_ids)][['client_id', 'path']].sample(n = 100).reset_index(drop=True)"
   ]
  },
  {
   "cell_type": "code",
   "execution_count": 9,
   "metadata": {},
   "outputs": [],
   "source": [
    "test_clean_validated_data = validate[validate['client_id'].isin(train_client_ids)][['client_id', 'path']]"
   ]
  },
  {
   "cell_type": "code",
   "execution_count": 16,
   "metadata": {},
   "outputs": [],
   "source": [
    "clean_test_data = data_generation(test_clean_validated_data)"
   ]
  },
  {
   "cell_type": "code",
   "execution_count": 17,
   "metadata": {},
   "outputs": [],
   "source": [
    "clean_test_data.to_csv('validate_data_test_dataset.csv', index=False)"
   ]
  }
 ],
 "metadata": {
  "kernelspec": {
   "display_name": "Python 3",
   "language": "python",
   "name": "python3"
  },
  "language_info": {
   "codemirror_mode": {
    "name": "ipython",
    "version": 3
   },
   "file_extension": ".py",
   "mimetype": "text/x-python",
   "name": "python",
   "nbconvert_exporter": "python",
   "pygments_lexer": "ipython3",
   "version": "3.8.0"
  }
 },
 "nbformat": 4,
 "nbformat_minor": 2
}
